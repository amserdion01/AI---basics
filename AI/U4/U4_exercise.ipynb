{
 "cells": [
  {
   "cell_type": "markdown",
   "metadata": {},
   "source": [
    "Name | Matr.Nr. | Due Date\n",
    ":--- | ---: | ---:\n",
    "Marius Alexandru Gurita | k12122899 | 13.12.2021\n"
   ]
  },
  {
   "cell_type": "markdown",
   "metadata": {},
   "source": [
    "<h1 style=\"color:rgb(0,120,170)\">Hands-on AI I</h1>\n",
    "<h2 style=\"color:rgb(0,120,170)\">Unit 4 &ndash; Logistic regression as a door opener to Deep Learning  </h2>"
   ]
  },
  {
   "cell_type": "markdown",
   "metadata": {},
   "source": [
    "<b>Authors:</b> Brandstetter, Schäfl, Winter, Parada-Cabaleiro, Schörgenhumer<br>\n",
    "<b>Date:</b> 29-11-2021\n",
    "\n",
    "This file is part of the \"Hands-on AI I\" lecture material. The following copyright statement applies to all code within this file.\n",
    "\n",
    "<b>Copyright statement:</b><br>\n",
    "This material, no matter whether in printed or electronic form, may be used for personal and non-commercial educational use only. Any reproduction of this material, no matter whether as a whole or in parts, no matter whether in printed or in electronic form, requires explicit prior acceptance of the authors."
   ]
  },
  {
   "cell_type": "code",
   "execution_count": 1,
   "metadata": {},
   "outputs": [
    {
     "name": "stdout",
     "output_type": "stream",
     "text": [
      "Installed Python version: 3.8 (✓)\n",
      "Installed numpy version: 1.20.1 (✓)\n",
      "Installed pandas version: 1.2.4 (✓)\n",
      "Installed scikit-learn version: 0.24.1 (✓)\n",
      "Installed matplotlib version: 3.3.4 (✓)\n",
      "Installed seaborn version: 0.11.1 (✓)\n",
      "Installed torch version: 1.10.0 (✓)\n"
     ]
    }
   ],
   "source": [
    "# Required packages and the u4_utils file\n",
    "import u4_utils as u4\n",
    "import matplotlib.pyplot as plt\n",
    "import numpy as np\n",
    "import pandas as pd\n",
    "import seaborn as sns\n",
    "import torch\n",
    "from types import SimpleNamespace\n",
    "\n",
    "\n",
    "u4.check_module_versions()\n",
    "# Set plotting style of seaborn related plots.\n",
    "sns.set()"
   ]
  },
  {
   "cell_type": "markdown",
   "metadata": {},
   "source": [
    "**Note**: When specifying a seed for the sources of randomness, use the `u4.set_seed(seed=XYZ)` function."
   ]
  },
  {
   "cell_type": "markdown",
   "metadata": {},
   "source": [
    "# Exercise 1\n",
    "\n",
    "Given the dataset defined below, use the functions from <code>u4_utils.py</code> (according to the instructions given in the lecture notebook) to perform the following tasks:\n",
    "\n",
    "<table>\n",
    "    <tr>\n",
    "        <th>Parameter</th>\n",
    "        <th>Value (used in this notebook)</th>\n",
    "        <th>Description</th>\n",
    "    </tr>\n",
    "    <tr>\n",
    "        <td><code>num_pairs</code></td>\n",
    "        <td>75</td>\n",
    "        <td>amount of $(x, y)$ pairs to generate</td>\n",
    "    </tr>\n",
    "    <tr>\n",
    "        <td><code>variance</code></td>\n",
    "        <td>0.2</td>\n",
    "        <td>variance within $y$ w.r.t. defining function</td>\n",
    "    </tr>\n",
    "</table>\n",
    "\n",
    "- In order to find the <i>linear</i> model which best describes the given dataset, look for the optimal parameters $k$ and $d$ manually. Then, plot both the data pairs and the linear model (defined by your coefficients). \n",
    "\n",
    "**Note**: For reproducibility, set a fixed seed (seed=42).\n",
    "\n",
    "- Perform the previous task but this time by setting the parameters 'automatically', in a way that the <b>Mean Squared Error</b> between the linear model and the data pairs is minimized. Again, plot both the data pairs and the linear model.\n",
    "\n",
    "**Note**: After performing the second task, you might revise the answer you have given to the first one."
   ]
  },
  {
   "cell_type": "code",
   "execution_count": 2,
   "metadata": {},
   "outputs": [
    {
     "name": "stdout",
     "output_type": "stream",
     "text": [
      "           x         y\n",
      "0   0.496714  0.614994\n",
      "1  -0.138264  0.200062\n",
      "2   0.647689  0.454523\n",
      "3   1.523030  0.902071\n",
      "4  -0.234153 -0.255327\n",
      "..       ...       ...\n",
      "70  0.361396  0.549874\n",
      "71  1.538037  0.642661\n",
      "72 -0.035826 -0.038210\n",
      "73  1.564644  1.005668\n",
      "74 -2.619745 -0.805135\n",
      "\n",
      "[75 rows x 2 columns]\n"
     ]
    },
    {
     "data": {
      "image/png": "[encoded data removed]",
      "text/plain": [
       "<Figure size 432x288 with 1 Axes>"
      ]
     },
     "metadata": {},
     "output_type": "display_data"
    }
   ],
   "source": [
    "# Set seed for reproducibility.\n",
    "u4.set_seed(seed=42)\n",
    "\n",
    "# Create dataset consisting of random (x, y) pairs.\n",
    "dataset = u4.get_dataset(\n",
    "    num_pairs=75,\n",
    "    variance=0.2\n",
    ")\n",
    "print(dataset)\n",
    "# Plot the dataset.\n",
    "sns.scatterplot(data=dataset, x=\"x\", y=\"y\");"
   ]
  },
  {
   "cell_type": "markdown",
   "metadata": {},
   "source": [
    "**1.1. Manually define the coefficients of an underlying linear model. Plot data pairs as well as the defined linear model.**"
   ]
  },
  {
   "cell_type": "code",
   "execution_count": 3,
   "metadata": {},
   "outputs": [
    {
     "data": {
      "image/png": "[encoded data removed]",
      "text/plain": [
       "<Figure size 432x288 with 1 Axes>"
      ]
     },
     "metadata": {},
     "output_type": "display_data"
    }
   ],
   "source": [
    "coefficients = (\n",
    "    0.17,  # intercept\n",
    "    0.45   # slope\n",
    ")\n",
    "\n",
    "# Plot data pairs as well as the defined linear model.\n",
    "u4.plot_model(\n",
    "    dataset=dataset,\n",
    "    coefficients=coefficients)\n"
   ]
  },
  {
   "cell_type": "markdown",
   "metadata": {},
   "source": [
    "**1.2. Determine the coefficients 'automatically'. Plot data pairs as well as the defined linear model.**"
   ]
  },
  {
   "cell_type": "code",
   "execution_count": 4,
   "metadata": {},
   "outputs": [
    {
     "name": "stdout",
     "output_type": "stream",
     "text": [
      "The coefficients minimizing the MSE are:\n",
      "    coefficient 0: 0.23\n",
      "    coefficient 1: 0.41\n"
     ]
    },
    {
     "data": {
      "image/png": "[encoded data removed]",
      "text/plain": [
       "<Figure size 432x288 with 1 Axes>"
      ]
     },
     "metadata": {},
     "output_type": "display_data"
    }
   ],
   "source": [
    "coefficients = u4.minimize_mse(\n",
    "    dataset=dataset,\n",
    "    degree=1  #\n",
    ")\n",
    "\n",
    "print(\"The coefficients minimizing the MSE are:\")\n",
    "for i, c in enumerate(coefficients):\n",
    "    print(f\"    coefficient {i}: {c}\")\n",
    "    \n",
    "coefficients = (\n",
    "    0.23,  # intercept\n",
    "    0.41 # slope\n",
    ")\n",
    "\n",
    "# Plot data pairs as well as the defined linear model.\n",
    "u4.plot_model(\n",
    "    dataset=dataset,\n",
    "    coefficients=coefficients)"
   ]
  },
  {
   "cell_type": "markdown",
   "metadata": {},
   "source": [
    "# Exercise 2\n",
    "\n",
    "For reproducibility, for each of the following tasks, set a fixed seed (seed=42).\n",
    "\n",
    "- Generate a new dataset considering the characteristics defined below and plot both the dataset and the underlying model.\n",
    "\n",
    "<table>\n",
    "    <tr>\n",
    "        <th>Parameter</th>\n",
    "        <th>Value (used in this notebook)</th>\n",
    "        <th>Description</th>\n",
    "    </tr>\n",
    "    <tr>\n",
    "        <td><code>num_pairs</code></td>\n",
    "        <td>25</td>\n",
    "        <td>amount of $(x, y)$ pairs to generate</td>\n",
    "    </tr>\n",
    "    <tr>\n",
    "        <td><code>variance</code></td>\n",
    "        <td>0.5</td>\n",
    "        <td>variance within $y$ w.r.t. defining function</td>\n",
    "    </tr>\n",
    "    <tr>\n",
    "        <td><code>coefficients</code></td>\n",
    "        <td><code>np.random.rand(4)</code></td>\n",
    "        <td>upper bound of random polynomial degree</td>\n",
    "    </tr>\n",
    "</table>\n",
    "\n",
    "**Note**: When defining the dataset, pass the random coefficients for the underlying model via the parameter `coefficients`. Also make sure to use the same random coefficients for plotting.\n",
    "\n",
    "- Define a model by 'automatically' retrieving the optimal coefficients which minimize the MSE. Then, print out the optimal coefficients and plot both the data pairs and the optimized model.\n",
    "\n",
    "- Compute and print out the difference between the random coefficients from the underlying model (used to generate the dataset) and the optimal coefficients ('automatically' computed) which minimize the MSE."
   ]
  },
  {
   "cell_type": "markdown",
   "metadata": {},
   "source": [
    "**2.1. Create the dataset with random coefficients. Plot data pairs as well as the defined linear model.**"
   ]
  },
  {
   "cell_type": "code",
   "execution_count": 5,
   "metadata": {},
   "outputs": [
    {
     "name": "stdout",
     "output_type": "stream",
     "text": [
      "    coefficient 0: 0.3745401188473625\n",
      "    coefficient 1: 0.9507143064099162\n",
      "    coefficient 2: 0.7319939418114051\n",
      "    coefficient 3: 0.5986584841970366\n"
     ]
    },
    {
     "data": {
      "image/png": "[encoded data removed]",
      "text/plain": [
       "<Figure size 432x288 with 1 Axes>"
      ]
     },
     "metadata": {},
     "output_type": "display_data"
    }
   ],
   "source": [
    "# Set seed for reproducibility.\n",
    "u4.set_seed(seed=42)\n",
    "coefficients = np.random.rand(4)\n",
    "# Create dataset conisting of random (x, y) pairs.\n",
    "dataset = u4.get_dataset(\n",
    "    num_pairs=25,\n",
    "    variance=0.5,\n",
    "    \n",
    ")\n",
    "\n",
    "u4.plot_model(\n",
    "    dataset=dataset,\n",
    "    coefficients=coefficients\n",
    ")\n",
    "coefficients1 = coefficients\n",
    "for i, c in enumerate(coefficients1):\n",
    "    print(f\"    coefficient {i}: {c}\")"
   ]
  },
  {
   "cell_type": "markdown",
   "metadata": {},
   "source": [
    "**2.2. Determine the coefficients 'automatically' and print them. Plot data pairs as well as the defined linear model.**"
   ]
  },
  {
   "cell_type": "code",
   "execution_count": 6,
   "metadata": {},
   "outputs": [
    {
     "name": "stdout",
     "output_type": "stream",
     "text": [
      "The coefficients minimizing the MSE are:\n",
      "    coefficient 0: 0.08\n",
      "    coefficient 1: 0.46\n",
      "    coefficient 2: 0.16\n",
      "    coefficient 3: 0.07\n",
      "    coefficient 4: -0.02\n"
     ]
    },
    {
     "data": {
      "image/png": "[encoded data removed]",
      "text/plain": [
       "<Figure size 432x288 with 1 Axes>"
      ]
     },
     "metadata": {},
     "output_type": "display_data"
    }
   ],
   "source": [
    "coefficients = u4.minimize_mse(\n",
    "    dataset=dataset,\n",
    "    degree=4  #\n",
    ")\n",
    "\n",
    "print(\"The coefficients minimizing the MSE are:\")\n",
    "for i, c in enumerate(coefficients):\n",
    "    print(f\"    coefficient {i}: {c}\")\n",
    "    \n",
    "\n",
    "coefficients2 = coefficients\n",
    "# Plot data pairs as well as the defined linear model.\n",
    "u4.plot_model(\n",
    "    dataset=dataset,\n",
    "    coefficients=coefficients)"
   ]
  },
  {
   "cell_type": "markdown",
   "metadata": {},
   "source": [
    "**2.3. Determine the difference between the random coefficients and the optimized coefficients and print this difference for each coefficient.**"
   ]
  },
  {
   "cell_type": "code",
   "execution_count": 7,
   "metadata": {},
   "outputs": [
    {
     "name": "stdout",
     "output_type": "stream",
     "text": [
      "    difference between the random coefficients 0  and the optimized coefficients 0: 0.2945401188473625\n",
      "    difference between the random coefficients 1  and the optimized coefficients 1: 0.49071430640991615\n",
      "    difference between the random coefficients 2  and the optimized coefficients 2: 0.5719939418114051\n",
      "    difference between the random coefficients 3  and the optimized coefficients 3: 0.5286584841970365\n"
     ]
    }
   ],
   "source": [
    "i = 0\n",
    "for c1, c2 in zip(coefficients1, coefficients2):\n",
    "    c = c1 - c2\n",
    "    print(f\"    difference between the random coefficients {i}  and the optimized coefficients {i}: {c}\")\n",
    "    i += 1"
   ]
  },
  {
   "cell_type": "markdown",
   "metadata": {},
   "source": [
    "# Exercise 3\n",
    "\n",
    "In this exercise, we will consider that $y$ is a binary variable, i.e., the label of each data point is either 0 or 1. Under this premise, we will create a new dataset.\n",
    "\n",
    "- Following the lecture notebook, choose the correct function from <code>u4_utils.py</code> to generate a dataset with binary labels consisting of 25 data pairs (feature, label). Then, plot it. For reproducibility, choose a fixed random seed of seed=27.\n",
    "\n",
    "- Use the corresponding function in `u4_utils.py` to minimize the cross entropy loss and choose the combination of hyperparameters that enables the logistic regression model to best separate the two classes. Then, plot the dataset and the logistic regression model. Retrieve the optimal combination by taking the following values for each hyperparameter into account:\n",
    "\n",
    "Hyperparameter | Values\n",
    ":--- | :---\n",
    "`iterations` | 10, 100\n",
    "`learning_rate` | 1, 10, 100\n",
    "`momentum` | 0.3, 0.9\n",
    "\n",
    "**Note**: For determining the best hyperparameters in this example, it is enough to simply look at the resulting model plot, i.e., you do not have to make any computations, a visual check is sufficient."
   ]
  },
  {
   "cell_type": "markdown",
   "metadata": {},
   "source": [
    "**3.1. Create a logistic dataset and plot it.**"
   ]
  },
  {
   "cell_type": "code",
   "execution_count": 8,
   "metadata": {},
   "outputs": [
    {
     "data": {
      "image/png": "[encoded data removed]",
      "text/plain": [
       "<Figure size 432x288 with 1 Axes>"
      ]
     },
     "metadata": {},
     "output_type": "display_data"
    }
   ],
   "source": [
    "# Set seed for reproducibility.\n",
    "u4.set_seed(seed=42)\n",
    "\n",
    "# Create dataset conisting of random (x, y) pairs.\n",
    "dataset = u4.get_dataset_logistic(\n",
    "    num_pairs=25\n",
    ")\n",
    "sns.scatterplot(data=dataset, x=\"x\", y=\"y\");"
   ]
  },
  {
   "cell_type": "markdown",
   "metadata": {},
   "source": [
    "**3.2. Minimize cross entropy loss using the best hyperparameters. Plot data pairs as well as the defined logisitc model.**"
   ]
  },
  {
   "cell_type": "code",
   "execution_count": 9,
   "metadata": {},
   "outputs": [
    {
     "data": {
      "image/png": "[encoded data removed]",
      "text/plain": [
       "<Figure size 432x288 with 1 Axes>"
      ]
     },
     "metadata": {},
     "output_type": "display_data"
    }
   ],
   "source": [
    "coefficients = u4.minimize_ce(\n",
    "    dataset=dataset,\n",
    "    iterations=100,\n",
    "    learning_rate=10,\n",
    "    momentum=0.9\n",
    ")\n",
    "\n",
    "u4.plot_logistic_model(\n",
    "    dataset=dataset,\n",
    "    coefficients=coefficients\n",
    ")"
   ]
  },
  {
   "cell_type": "markdown",
   "metadata": {},
   "source": [
    "# Exercise 4\n",
    "\n",
    "Considering again a binary classification problem, we will now workwith the <code>DataSet_LR_a.csv</code> (same as in the lecture notebook).\n",
    "\n",
    "- Load and process the dataset as shown in the lecture notebook but this time considering 75% (parameter `frac`) of the samples for training and 25% for testing. For reproducibility, set a seed=42. \n",
    "\n",
    "- Considering `iterations=1000` and `momentum=0.9` and by using the function to minimize the cross entropy loss, find a learning rate that enables the logistic regression model to achieve an accuracy on the **test set** higher than 93.5%. Also print out the model's accuracy. For reproducibility, set a seed=42.\n",
    "\n",
    "-  Plot the 2D test dataset, once showing the true, actual labels (ground truth) and once showing the predicted labels."
   ]
  },
  {
   "cell_type": "markdown",
   "metadata": {},
   "source": [
    "**4.1. Load the CSV file and create the training and test datasets.**"
   ]
  },
  {
   "cell_type": "code",
   "execution_count": 10,
   "metadata": {},
   "outputs": [
    {
     "name": "stdout",
     "output_type": "stream",
     "text": [
      "           x0        x1  y\n",
      "44   0.710274  0.424337  1\n",
      "47   0.761069  0.126840  1\n",
      "4    0.133543  0.793624  0\n",
      "55   0.336885  0.526784  0\n",
      "26   0.807385  0.626873  1\n",
      "..        ...       ... ..\n",
      "41   0.920626  0.796762  1\n",
      "58   0.967879  0.423681  1\n",
      "48   0.773916  0.118142  1\n",
      "101  0.134090  0.595935  0\n",
      "57   0.029018  0.574770  0\n",
      "\n",
      "[90 rows x 3 columns]            x0        x1  y\n",
      "1    0.890748  0.003367  1\n",
      "2    0.476996  0.973464  0\n",
      "14   0.329724  0.838246  0\n",
      "20   0.811240  0.052120  1\n",
      "21   0.172253  0.376222  0\n",
      "23   0.239775  0.674396  0\n",
      "29   0.790245  0.434532  1\n",
      "32   0.774364  0.756197  1\n",
      "37   0.885688  0.323261  1\n",
      "51   0.071039  0.007989  0\n",
      "52   0.261922  0.142590  0\n",
      "59   0.612960  0.917661  0\n",
      "60   0.676948  0.650844  1\n",
      "63   0.660224  0.401258  1\n",
      "71   0.335087  0.968355  0\n",
      "74   0.667465  0.241116  1\n",
      "75   0.923029  0.826322  1\n",
      "82   0.899614  0.668026  1\n",
      "86   0.873496  0.232249  1\n",
      "87   0.902726  0.394926  1\n",
      "92   0.521315  0.494189  1\n",
      "99   0.215348  0.286219  0\n",
      "102  0.016677  0.717209  0\n",
      "103  0.205044  0.255385  0\n",
      "105  0.982922  0.857231  1\n",
      "106  0.101757  0.617570  0\n",
      "108  0.811040  0.640045  1\n",
      "112  0.511736  0.384737  1\n",
      "115  0.419256  0.682097  0\n",
      "119  0.523573  0.849123  0\n"
     ]
    }
   ],
   "source": [
    "u4.set_seed(seed=42)\n",
    "\n",
    "dataset = u4.get_dataset_from_csv(path='resources/DataSet_LR_a.csv')\n",
    "dataset_train = dataset.sample(frac=0.75, replace=False, axis=0)\n",
    "dataset_test = dataset.drop(dataset_train.index)\n",
    "print(dataset_train, dataset_test)"
   ]
  },
  {
   "cell_type": "markdown",
   "metadata": {},
   "source": [
    "**4.2. Minimize cross entropy loss and identify a learning rate that achieves at least 93.5% accuracy on the test set. Print the model's accuracy.**"
   ]
  },
  {
   "cell_type": "code",
   "execution_count": 11,
   "metadata": {},
   "outputs": [
    {
     "name": "stdout",
     "output_type": "stream",
     "text": [
      "Accuracy on training set: 0.9667\n"
     ]
    }
   ],
   "source": [
    "u4.set_seed(seed=42)\n",
    "coefficients = u4.minimize_ce(\n",
    "    dataset=dataset_train,\n",
    "    iterations=1000,\n",
    "    learning_rate=117,\n",
    "    momentum=0.9\n",
    ")\n",
    "predictions = u4.predict_logistic(dataset_test.drop(columns=\"y\"), coefficients)\n",
    "\n",
    "accuracy_train = (predictions == dataset_test[\"y\"]).mean()\n",
    "print(f\"Accuracy on training set: {accuracy_train:.4f}\")"
   ]
  },
  {
   "cell_type": "markdown",
   "metadata": {},
   "source": [
    "**4.3. Plot the test data, once showing the ground truth and once showing the predicted labels as 2D plots.**"
   ]
  },
  {
   "cell_type": "code",
   "execution_count": 12,
   "metadata": {},
   "outputs": [
    {
     "data": {
      "image/png": "[encoded data removed]",
      "text/plain": [
       "<Figure size 1080x360 with 2 Axes>"
      ]
     },
     "metadata": {},
     "output_type": "display_data"
    }
   ],
   "source": [
    "fig, axes = plt.subplots(nrows=1, ncols=2, figsize=(15, 5))\n",
    "\n",
    "# Plot ground truth labels.\n",
    "axes[0].set_title(\"ground truth\")\n",
    "sns.scatterplot(data=dataset_test, x=\"x0\", y=\"x1\", hue=\"y\", ax=axes[0])\n",
    "axes[1].set_title(\"prediction\")\n",
    "sns.scatterplot(data=dataset_test.assign(y=predictions), x=\"x0\", y=\"x1\", hue=\"y\", ax=axes[1])\n",
    "plt.show()"
   ]
  },
  {
   "cell_type": "markdown",
   "metadata": {},
   "source": [
    "# Exercise 5\n",
    "\n",
    "Considering the framework PyTorch and the instructions given in the lecture notebook, perform the following tasks:\n",
    "\n",
    "- Generate a tensor of 2 dimensions with a shape of 2 x 4, containing random numbers from a standard normal distribution with (mean=0 and stddev=variance=1). Print out the tensor and its shape to be sure that your answer is correct. For reproducibility, set seed=42.\n",
    "\n",
    "- Implement the function $g\\left(x\\right) = 5\\cdot{}{x}^2$ related to the previously generated tensor using PyTorch.\n",
    "\n",
    "- Print the output of the function considering as input the tensor you have created in the first task of this exercise.\n",
    "\n",
    "- Compute the gradient of the previously defined function $g\\left(x\\right)$ for $x = 0.5$ using the automatic differentiation functionality of PyTorch. Following the lecture notebook, print $x$ as a tensor, the output of the function $g(x)$, and the gradient $g'(x)$"
   ]
  },
  {
   "cell_type": "markdown",
   "metadata": {},
   "source": [
    "**5.1. Create a random 2 x 4 tensor and print it and its shape.**"
   ]
  },
  {
   "cell_type": "code",
   "execution_count": 13,
   "metadata": {},
   "outputs": [
    {
     "name": "stdout",
     "output_type": "stream",
     "text": [
      "(2, 4)\n",
      "tensor([[ 0.3367,  0.1288,  0.2345,  0.2303],\n",
      "        [-1.1229, -0.1863,  2.2082, -0.6380]])\n"
     ]
    }
   ],
   "source": [
    "u4.set_seed(seed = 42)\n",
    "shape = (2,4)\n",
    "print(shape)\n",
    "x = torch.randn(shape)\n",
    "print(x)"
   ]
  },
  {
   "cell_type": "markdown",
   "metadata": {},
   "source": [
    "**5.2. Define the function `g(x)`, call it with your tensor from above and print the result.**"
   ]
  },
  {
   "cell_type": "code",
   "execution_count": 14,
   "metadata": {},
   "outputs": [
    {
     "name": "stdout",
     "output_type": "stream",
     "text": [
      "g(x)  = tensor([[ 0.5668,  0.0830,  0.2749,  0.2653],\n",
      "        [ 6.3040,  0.1736, 24.3808,  2.0352]])\n"
     ]
    }
   ],
   "source": [
    "def g(x: torch.Tensor) -> torch.Tensor:\n",
    "    return 5 * (x**2)\n",
    "print(f'g(x)  = {g(x)}')"
   ]
  },
  {
   "cell_type": "markdown",
   "metadata": {},
   "source": [
    "**5.3. Create a scalar tensor with the value 0.5 and print it. Call the function `g(x)` from above using this tensor and print the result. Compute the gradient `g'(x)` using this tensor and print the result.**"
   ]
  },
  {
   "cell_type": "code",
   "execution_count": 15,
   "metadata": {},
   "outputs": [
    {
     "name": "stdout",
     "output_type": "stream",
     "text": [
      "x = 0.5\n",
      "g(x)  = 1.25\n",
      "g'(x) = 5.0\n"
     ]
    }
   ],
   "source": [
    "x = torch.tensor([0.5], requires_grad=True)\n",
    "print(f'x = {x.item()}')\n",
    "y = g(x)\n",
    "print(f'g(x)  = {y.item()}')\n",
    "dy = torch.autograd.grad(y, x)\n",
    "print(f\"g'(x) = {dy[0].item()}\")"
   ]
  },
  {
   "cell_type": "markdown",
   "metadata": {},
   "source": [
    "# Exercise 6\n",
    "\n",
    "With the MNIST dataset, perform the following tasks:\n",
    "\n",
    "- Set the following hyperparameters (hint: `epochs` is the same as `iterations`):<br>\n",
    "Hyperparameter | Value\n",
    ":--- | :---\n",
    "`batch_size` | 9\n",
    "`epochs` | 1\n",
    "`learning_rate` | 0.01\n",
    "`momentum` | 0.7\n",
    "\n",
    "- Load the dataset and fetch the test samples as well as test targets as shown in the lecture notebook.\n",
    "\n",
    "**Note**: For reproducibility, for this one and **all** following tasks, set a fixed seed (seed=27).\n",
    "\n",
    "- Train a logistic regression model on the training data, evaluate its accuracy on the test data and print out the results.\n",
    "\n",
    "- Keeping `batch_size=9` and `epochs=1`, optimize the other two hyperparameters in a way that you achieve a better performance. Then, print out the results.\n",
    "\n",
    "**Note**: You might consider some of the concepts learned in the previous units to automatize this process. Do not forget to set the seed if you want reproducible and comparable results."
   ]
  },
  {
   "cell_type": "markdown",
   "metadata": {},
   "source": [
    "**6.1. Set up hyperparameters.**"
   ]
  },
  {
   "cell_type": "code",
   "execution_count": 28,
   "metadata": {},
   "outputs": [],
   "source": [
    "# Set seed for reproducibility.\n",
    "u4.set_seed(seed=27)\n",
    "\n",
    "# Set hyperparameters to be used in the training process.\n",
    "# Note: The \"SimpleNamespace(...)\" wrapper is just for convenience so we can write \"hyperparameters.XYZ\", where \"XYZ\" are our specified variables.\n",
    "hyperparameters = SimpleNamespace(\n",
    "    batch_size=9,\n",
    "    epochs=1,\n",
    "    learning_rate=0.01,\n",
    "    momentum=0.7\n",
    ")\n"
   ]
  },
  {
   "cell_type": "markdown",
   "metadata": {},
   "source": [
    "**6.2. Get the data loaders for the training and test MNIST data. Fetch the samples and targets.**"
   ]
  },
  {
   "cell_type": "code",
   "execution_count": 29,
   "metadata": {},
   "outputs": [],
   "source": [
    "from itertools import islice\n",
    "from torchvision.datasets import MNIST\n",
    "u4.set_seed(seed=27)\n",
    "\n",
    "\n",
    "train_loader, test_loader = u4.get_dataset_mnist(\n",
    "    batch_size=hyperparameters.batch_size\n",
    ")\n",
    "\n",
    "samples = torch.stack([x for x, y in test_loader.dataset]).flatten(start_dim=1)\n",
    "targets = test_loader.dataset.targets\n"
   ]
  },
  {
   "cell_type": "markdown",
   "metadata": {},
   "source": [
    "**6.3. Minimize the cross entropy loss using the training data to get the coefficients of the logisitc model. Get the predictions for the test data using this model and print the accuracy on the test set.**"
   ]
  },
  {
   "cell_type": "code",
   "execution_count": 31,
   "metadata": {},
   "outputs": [
    {
     "name": "stdout",
     "output_type": "stream",
     "text": [
      "Accuracy on training set: 0.9145\n"
     ]
    }
   ],
   "source": [
    "u4.set_seed(seed=27)\n",
    "\n",
    "coefficients = u4.minimize_ce(\n",
    "    dataset=train_loader,\n",
    "    iterations=hyperparameters.epochs,\n",
    "    learning_rate=hyperparameters.learning_rate,\n",
    "    momentum=hyperparameters.momentum\n",
    ")\n",
    "samples = torch.stack([x for x, y in test_loader.dataset]).flatten(start_dim=1)\n",
    "targets = test_loader.dataset.targets\n",
    "\n",
    "# Compute predictions of trained logistic regression model w.r.t. the training data.\n",
    "predictions = u4.predict_logistic(samples, coefficients)\n",
    "\n",
    "# Compute accuracy given the predicted and the true training labels.\n",
    "accuracy_test = (predictions == targets.numpy()).mean()\n",
    "print(f\"Accuracy on test set: {accuracy_test:.4f}\")"
   ]
  },
  {
   "cell_type": "markdown",
   "metadata": {},
   "source": [
    "**6.4. Optimize the hyperparameters `learning_rate` and/or `momentum` to get a higher accuracy than above.**"
   ]
  },
  {
   "cell_type": "code",
   "execution_count": 47,
   "metadata": {},
   "outputs": [
    {
     "name": "stdout",
     "output_type": "stream",
     "text": [
      "Accuracy on test set: 0.9147\n"
     ]
    }
   ],
   "source": [
    "u4.set_seed(seed=27)\n",
    "\n",
    "\n",
    "coefficients = u4.minimize_ce(\n",
    "    dataset=train_loader,\n",
    "    iterations=hyperparameters.epochs,\n",
    "    learning_rate=0.025,\n",
    "    momentum=0.29\n",
    ")\n",
    "samples = torch.stack([x for x, y in test_loader.dataset]).flatten(start_dim=1)\n",
    "targets = test_loader.dataset.targets\n",
    "\n",
    "# Compute predictions of trained logistic regression model w.r.t. the training data.\n",
    "predictions = u4.predict_logistic(samples, coefficients)\n",
    "\n",
    "# Compute accuracy given the predicted and the true training labels.\n",
    "accuracy_test = (predictions == targets.numpy()).mean()\n",
    "print(f\"Accuracy on test set: {accuracy_test:.4f}\")"
   ]
  }
 ],
 "metadata": {
  "kernelspec": {
   "display_name": "Python 3",
   "language": "python",
   "name": "python3"
  },
  "language_info": {
   "codemirror_mode": {
    "name": "ipython",
    "version": 3
   },
   "file_extension": ".py",
   "mimetype": "text/x-python",
   "name": "python",
   "nbconvert_exporter": "python",
   "pygments_lexer": "ipython3",
   "version": "3.8.8"
  }
 },
 "nbformat": 4,
 "nbformat_minor": 4
}
